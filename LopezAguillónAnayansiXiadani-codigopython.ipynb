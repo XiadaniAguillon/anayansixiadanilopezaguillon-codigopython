{
 "cells": [
  {
   "cell_type": "markdown",
   "id": "56b4bdb0",
   "metadata": {},
   "source": [
    "# Ejercicio 1"
   ]
  },
  {
   "cell_type": "code",
   "execution_count": 1,
   "id": "d2f4ebf9",
   "metadata": {},
   "outputs": [
    {
     "name": "stdout",
     "output_type": "stream",
     "text": [
      " //\\ \n",
      "//__\\ \n",
      "||  ||\n",
      "||__||\n"
     ]
    }
   ],
   "source": [
    "print(r' //\\ ')\n",
    "print(r'//__\\ ')\n",
    "print(\"||  ||\")\n",
    "print(\"||__||\")"
   ]
  },
  {
   "cell_type": "markdown",
   "id": "d7061451",
   "metadata": {},
   "source": [
    "# Ejercicio 2"
   ]
  },
  {
   "cell_type": "code",
   "execution_count": 2,
   "id": "33f36aaa",
   "metadata": {},
   "outputs": [
    {
     "name": "stdout",
     "output_type": "stream",
     "text": [
      "Ingrese su nombre: Xiadani\n",
      "Ingrese su telefono: 5566778899\n",
      "Ingrese su correo: xiadani.prueba@gmail.com\n",
      "\n",
      "¡BIENVENID@ Xiadani!\n",
      "Tu numero de telefono es: 5566778899\n",
      "Tu correo es: xiadani.prueba@gmail.com\n"
     ]
    }
   ],
   "source": [
    "nom = input(\"Ingrese su nombre: \")\n",
    "tel = input(\"Ingrese su telefono: \")\n",
    "correo = input(\"Ingrese su correo: \")\n",
    "\n",
    "print(\"\\n¡BIENVENID@ \" + nom + \"!\"\"\\nTu numero de telefono es: \" + tel + \"\\nTu correo es: \" + correo)"
   ]
  },
  {
   "cell_type": "markdown",
   "id": "bbb9dba2",
   "metadata": {},
   "source": [
    "# Ejercicio 3"
   ]
  },
  {
   "cell_type": "code",
   "execution_count": 26,
   "id": "f20a2685",
   "metadata": {
    "scrolled": true
   },
   "outputs": [
    {
     "name": "stdout",
     "output_type": "stream",
     "text": [
      "Ingrese el valor de la resistencia 1: 20\n",
      "Ingrese el valor de la resistencia 2: 30\n",
      "El resultado es:  11.999999999999998\n"
     ]
    }
   ],
   "source": [
    "r1 = float(input(\"Ingrese el valor de la resistencia 1: \"))\n",
    "r2 = float(input(\"Ingrese el valor de la resistencia 2: \"))\n",
    "print(\"El resultado es: \", (1/((1/r1)+(1/r2))))"
   ]
  },
  {
   "cell_type": "markdown",
   "id": "55794cd4",
   "metadata": {},
   "source": [
    "# Ejercicio 4"
   ]
  },
  {
   "cell_type": "code",
   "execution_count": 23,
   "id": "16e76963",
   "metadata": {},
   "outputs": [
    {
     "name": "stdout",
     "output_type": "stream",
     "text": [
      "fila 0, columna 0 : 5\n",
      "fila 0, columna 1 : 5\n",
      "fila 1, columna 0 : 5\n",
      "fila 1, columna 1 : 1\n",
      "El resultado es: -20.0\n"
     ]
    }
   ],
   "source": [
    "matriz = []\n",
    "for i in range(2):\n",
    "    matriz.append([])\n",
    "    for j in range(2):\n",
    "        num = float(input(\"fila {}, columna {} : \".format(i,j)))\n",
    "        matriz[i].append(num)\n",
    "print(\"El resultado es:\", (matriz[0][0]* matriz[1][1]) - (matriz[0][1]* matriz[1][0]))"
   ]
  },
  {
   "cell_type": "markdown",
   "id": "8168cf3a",
   "metadata": {},
   "source": [
    "# Ejercicio 5"
   ]
  },
  {
   "cell_type": "code",
   "execution_count": 8,
   "id": "cd4ee835",
   "metadata": {},
   "outputs": [
    {
     "name": "stdout",
     "output_type": "stream",
     "text": [
      "Ingresa el valor de a: 6\n",
      "Ingresa el valor de b: -5\n",
      "Ingrese el valor de c: 1\n",
      "EL VALOR DE X1 ES:  0.5\n",
      "EL VALOR DE X2 ES:  0.3333333333333333\n"
     ]
    }
   ],
   "source": [
    "import math\n",
    "a = float(input(\"Ingresa el valor de a: \"))\n",
    "b = float(input(\"Ingresa el valor de b: \"))\n",
    "c = float(input(\"Ingrese el valor de c: \"))\n",
    "x = (b**2)-(4*(a*c))\n",
    "if x < 0:\n",
    "    print(\"No tiene solucion\")\n",
    "else:\n",
    "    x1 = (-b + math.sqrt(x)) / (2*a)\n",
    "    x2 = (-b - math.sqrt(x)) / (2*a)\n",
    "    print(\"EL VALOR DE X1 ES: \", x1)\n",
    "    print(\"EL VALOR DE X2 ES: \", x2)"
   ]
  },
  {
   "cell_type": "markdown",
   "id": "11260a2e",
   "metadata": {},
   "source": [
    "# Ejercicio 6"
   ]
  },
  {
   "cell_type": "code",
   "execution_count": 32,
   "id": "056cdd41",
   "metadata": {},
   "outputs": [
    {
     "name": "stdout",
     "output_type": "stream",
     "text": [
      "Ingrese un numero: 0\n",
      "El numero es cero\n"
     ]
    }
   ],
   "source": [
    "num = int(input(\"Ingrese un numero: \"))\n",
    "if num > 0:\n",
    "    respuesta = \"El numero es positivo\"\n",
    "elif num == 0:\n",
    "    respuesta = \"El numero es cero\"\n",
    "else:\n",
    "    respuesta = \"El numero es negativo\"\n",
    "print (respuesta)"
   ]
  },
  {
   "cell_type": "markdown",
   "id": "5814d832",
   "metadata": {},
   "source": [
    "# Ejercicio 7"
   ]
  },
  {
   "cell_type": "code",
   "execution_count": 32,
   "id": "82b1f099",
   "metadata": {},
   "outputs": [
    {
     "name": "stdout",
     "output_type": "stream",
     "text": [
      "Ingrese su nombre: Xiadani\n",
      "Ingrese su edad: 21\n",
      "Introduzca sus ingresos: 800\n",
      "Introduzca sus egresos: 700\n",
      "Digite la cantidad del prestamo que desea hacer: 300\n",
      "A cuantos meses desea pagar?: 2\n",
      "¡FELICITACIONES!, PRESTAMO ACEPTADO\n"
     ]
    }
   ],
   "source": [
    "nombre = (input(\"Ingrese su nombre: \"))\n",
    "edad = int(input(\"Ingrese su edad: \"))\n",
    "ingresos = int(input(\"Introduzca sus ingresos: \"))\n",
    "egresos = int(input(\"Introduzca sus egresos: \"))\n",
    "prestamo = int(input(\"Digite la cantidad del prestamo que desea hacer: \"))\n",
    "meses = int(input(\"A cuantos meses desea pagar?: \"))\n",
    "if(edad<18):\n",
    "    print(\"Ops!, no puede solicitar un prestamo\")\n",
    "elif((prestamo/meses)<(ingresos-egresos)):\n",
    "    print(\"SU PRESTAMO NO PUEDE PROCEDER :(\")\n",
    "else:\n",
    "    print(\"¡FELICITACIONES!, PRESTAMO ACEPTADO\")"
   ]
  },
  {
   "cell_type": "markdown",
   "id": "21376efd",
   "metadata": {},
   "source": [
    "# Ejercicio 8"
   ]
  },
  {
   "cell_type": "code",
   "execution_count": 7,
   "id": "b0c04829",
   "metadata": {},
   "outputs": [
    {
     "name": "stdout",
     "output_type": "stream",
     "text": [
      " * \n",
      " *  * \n",
      " *  *  * \n",
      " *  *  *  * \n",
      " *  *  *  *  * \n",
      " *  *  *  *  * \n",
      " *  *  *  * \n",
      " *  *  * \n",
      " *  * \n",
      " * \n"
     ]
    }
   ],
   "source": [
    "fig = ' * '\n",
    "altura = 5\n",
    "\n",
    "for j in range (altura):\n",
    "    print((fig) * (j + 1))\n",
    "\n",
    "for i in range (len(fig)):\n",
    "    for j in range (altura):\n",
    "        print((fig) * altura)\n",
    "        altura -= 1"
   ]
  },
  {
   "cell_type": "markdown",
   "id": "286d3b71",
   "metadata": {},
   "source": [
    "# Ejercicio 9"
   ]
  },
  {
   "cell_type": "code",
   "execution_count": 2,
   "id": "dbafd68a",
   "metadata": {},
   "outputs": [
    {
     "name": "stdout",
     "output_type": "stream",
     "text": [
      "Escribe una palabra: hola xiadani\n",
      "inadaix aloh\n"
     ]
    }
   ],
   "source": [
    "print(input(\"Escribe una palabra: \")[::-1])"
   ]
  },
  {
   "cell_type": "markdown",
   "id": "b2ac9278",
   "metadata": {},
   "source": [
    "# Ejercicio 10"
   ]
  },
  {
   "cell_type": "code",
   "execution_count": 108,
   "id": "73a34035",
   "metadata": {},
   "outputs": [
    {
     "name": "stdout",
     "output_type": "stream",
     "text": [
      "[0, 1, 2, 4, 5]\n"
     ]
    }
   ],
   "source": [
    "lista = [0, 1, 2, 3, 4, 5, 6]\n",
    "lista.remove(3)\n",
    "lista.remove(6)\n",
    "print(lista)"
   ]
  },
  {
   "cell_type": "code",
   "execution_count": null,
   "id": "c0f41ac6",
   "metadata": {},
   "outputs": [],
   "source": []
  }
 ],
 "metadata": {
  "kernelspec": {
   "display_name": "Python 3",
   "language": "python",
   "name": "python3"
  },
  "language_info": {
   "codemirror_mode": {
    "name": "ipython",
    "version": 3
   },
   "file_extension": ".py",
   "mimetype": "text/x-python",
   "name": "python",
   "nbconvert_exporter": "python",
   "pygments_lexer": "ipython3",
   "version": "3.8.8"
  }
 },
 "nbformat": 4,
 "nbformat_minor": 5
}
