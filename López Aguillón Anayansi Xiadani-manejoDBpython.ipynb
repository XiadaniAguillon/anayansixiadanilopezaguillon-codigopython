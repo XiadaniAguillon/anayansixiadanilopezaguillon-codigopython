{
 "cells": [
  {
   "cell_type": "markdown",
   "id": "7b3f665a",
   "metadata": {},
   "source": [
    "### Práctica 1: Manejo de BD con SQLite3 y Python\n",
    "#### Alumna: López Aguillón Anayansi Xiadani"
   ]
  },
  {
   "cell_type": "code",
   "execution_count": 1,
   "id": "98e7bcf3",
   "metadata": {},
   "outputs": [],
   "source": [
    "import sqlite3"
   ]
  },
  {
   "cell_type": "code",
   "execution_count": 2,
   "id": "b312e4e5",
   "metadata": {},
   "outputs": [],
   "source": [
    "conexion = sqlite3.connect(\"ejemplo.db\")"
   ]
  },
  {
   "cell_type": "code",
   "execution_count": 3,
   "id": "35d20990",
   "metadata": {},
   "outputs": [],
   "source": [
    "#abrimos conexión\n",
    "conexion = sqlite3.connect(\"ejemplo.db\")\n",
    "\n",
    "#creamos el cursor\n",
    "cursor = conexion.cursor()\n",
    "\n",
    "#cerramos la conexión\n",
    "conexion.close()"
   ]
  },
  {
   "cell_type": "markdown",
   "id": "dce46554",
   "metadata": {},
   "source": [
    "#### Crear una tabla "
   ]
  },
  {
   "cell_type": "code",
   "execution_count": 7,
   "id": "86b4e9ce",
   "metadata": {},
   "outputs": [],
   "source": [
    "conexion = sqlite3.connect(\"ejemplo.db\")\n",
    "cursor = conexion.cursor()\n",
    "\n",
    "#creamos una tabla llamada estudiantes\n",
    "cursor.execute(\"CREATE TABLE estudiantes (email VARCHAR(100), carrera VARCHAR(100), nombre VARCHAR(100), edad INTEGER)\")\n",
    "\n",
    "conexion.close()"
   ]
  },
  {
   "cell_type": "markdown",
   "id": "29b16cc3",
   "metadata": {},
   "source": [
    "#### Insertar datos "
   ]
  },
  {
   "cell_type": "code",
   "execution_count": 8,
   "id": "63eb31b6",
   "metadata": {},
   "outputs": [],
   "source": [
    "conexion = sqlite3.connect(\"ejemplo.db\")\n",
    "cursor = conexion.cursor()\n",
    "\n",
    "#insertamos un registro en la tabla estudiantes\n",
    "cursor.execute(\"INSERT INTO estudiantes VALUES ('bluenote@googlemail.com','Artes','Sharon', 27)\")\n",
    "\n",
    "#guardamos los cambios\n",
    "conexion.commit()\n",
    "\n",
    "conexion.close()"
   ]
  },
  {
   "cell_type": "markdown",
   "id": "699aff50",
   "metadata": {},
   "source": [
    "#### Seleccionar e imprime registros de una tabla"
   ]
  },
  {
   "cell_type": "code",
   "execution_count": 9,
   "id": "7a20f8da",
   "metadata": {},
   "outputs": [
    {
     "name": "stdout",
     "output_type": "stream",
     "text": [
      "('bluenote@googlemail.com', 'Artes', 'Sharon', 27)\n"
     ]
    }
   ],
   "source": [
    "conexion = sqlite3.connect(\"ejemplo.db\")\n",
    "cursor = conexion.cursor()\n",
    "\n",
    "#selecciona todos los registros de la tabla\n",
    "cursor.execute(\"SELECT * FROM estudiantes\")\n",
    "\n",
    "usuarios = cursor.fetchone()##toma un solo registro\n",
    "print(usuarios)"
   ]
  },
  {
   "cell_type": "markdown",
   "id": "e4c1de9a",
   "metadata": {},
   "source": [
    "#### Ingresar y leer varios registros al mismo tiempo"
   ]
  },
  {
   "cell_type": "code",
   "execution_count": 10,
   "id": "83349f4c",
   "metadata": {},
   "outputs": [],
   "source": [
    "##insertar\n",
    "conexion = sqlite3.connect(\"ejemplo.db\")\n",
    "cursor = conexion.cursor()\n",
    "\n",
    "usuarios = [\n",
    "    ('parrillaexquisita@vip.com','Arquitectura','Giulia', 26),\n",
    "    ('lollipopbusiness@vip.com','Contaduría','Rosana', 60),\n",
    "    ('solfernandez@googlemail.com','Estadística','Sol', 30),\n",
    "    ('carlitos@googlemail.com','Computación','Carlos', 60),\n",
    "    ('imprentadetata@vip.com','Periodismo','Luciano', 21)\n",
    "]\n",
    "\n",
    "cursor.executemany(\"INSERT INTO estudiantes VALUES (?,?,?,?)\", usuarios)\n",
    "\n",
    "conexion.commit()\n",
    "\n",
    "conexion.close()"
   ]
  },
  {
   "cell_type": "code",
   "execution_count": 12,
   "id": "c42816a7",
   "metadata": {},
   "outputs": [
    {
     "name": "stdout",
     "output_type": "stream",
     "text": [
      "('bluenote@googlemail.com', 'Artes', 'Sharon', 27)\n",
      "('parrillaexquisita@vip.com', 'Arquitectura', 'Giulia', 26)\n",
      "('lollipopbusiness@vip.com', 'Contaduría', 'Rosana', 60)\n",
      "('solfernandez@googlemail.com', 'Estadística', 'Sol', 30)\n",
      "('carlitos@googlemail.com', 'Computación', 'Carlos', 60)\n",
      "('imprentadetata@vip.com', 'Periodismo', 'Luciano', 21)\n"
     ]
    }
   ],
   "source": [
    "##leer\n",
    "conexion = sqlite3.connect(\"ejemplo.db\")\n",
    "cursor = conexion.cursor()\n",
    "\n",
    "##recuperamos los registros de la tabla\n",
    "cursor.execute(\"SELECT * FROM estudiantes\")\n",
    "\n",
    "usuarios = cursor.fetchall()##toma todos los registros\n",
    "\n",
    "##print(usuarios),este for lo hace por registro en vez de imprimir la tupla completa\n",
    "for u in usuarios:\n",
    "    print(u)\n",
    "    \n",
    "conexion.close()"
   ]
  },
  {
   "cell_type": "markdown",
   "id": "3c472eda",
   "metadata": {},
   "source": [
    "#### Leer un CSV e insertarlo en la BD "
   ]
  },
  {
   "cell_type": "code",
   "execution_count": 13,
   "id": "7d8d310f",
   "metadata": {},
   "outputs": [
    {
     "name": "stdout",
     "output_type": "stream",
     "text": [
      "[('bluenote@googlemail.com', 'Artes', 'Sharon', 27), ('parrillaexquisita@vip.com', 'Arquitectura', 'Giulia', 26), ('lollipopbusiness@vip.com', 'Contaduría', 'Rosana', 60), ('solfernandez@googlemail.com', 'Estadística', 'Sol', 30), ('carlitos@googlemail.com', 'Computación', 'Carlos', 60), ('imprentadetata@vip.com', 'Periodismo', 'Luciano', 21), ('paella@vip.com', 'Medicina', 'Giuliana', 27), ('crimewave@vip.com', 'Derecho', 'Alicia', 20), ('prince@orange.com', 'Ingenieria', 'William', 24), ('elrisortdewelini@vip.com', 'Nutrición', 'Chefsito', 25), ('planb@vip.com', 'Artes', 'Chencho', 30), ('channel@boyz.com', 'Letras', 'Frank', 32), ('vinos@aouju.com', 'Nutrición', 'Eugenia', 23)]\n"
     ]
    }
   ],
   "source": [
    "import csv\n",
    "\n",
    "conexion = sqlite3.connect(r\"C:\\Users\\Xiadani\\ejemplo.db\")##ruta exacta donde se encuentra la BD\n",
    "cursor = conexion.cursor()\n",
    "\n",
    "##abre el archivo de texto\n",
    "archivo = open(r\"C:\\Users\\Xiadani\\008 datos_db.txt\")##ruta exacta donde se encuentra el .txt\n",
    "\n",
    "filas = csv.reader(archivo)##lee lo que hay dentro del .txt\n",
    "\n",
    "cursor.executemany(\"INSERT INTO estudiantes VALUES (?,?,?,?)\", filas)\n",
    "\n",
    "##Para ver los resultados\n",
    "cursor.execute(\"SELECT * FROM estudiantes\")\n",
    "print(cursor.fetchall())##imprime los datos de la tabla \"estudiantes\" con los nuevos registros\n",
    "\n",
    "conexion.commit()\n",
    "conexion.close()"
   ]
  },
  {
   "cell_type": "code",
   "execution_count": null,
   "id": "9799d327",
   "metadata": {},
   "outputs": [],
   "source": []
  }
 ],
 "metadata": {
  "kernelspec": {
   "display_name": "Python 3",
   "language": "python",
   "name": "python3"
  },
  "language_info": {
   "codemirror_mode": {
    "name": "ipython",
    "version": 3
   },
   "file_extension": ".py",
   "mimetype": "text/x-python",
   "name": "python",
   "nbconvert_exporter": "python",
   "pygments_lexer": "ipython3",
   "version": "3.8.8"
  }
 },
 "nbformat": 4,
 "nbformat_minor": 5
}
