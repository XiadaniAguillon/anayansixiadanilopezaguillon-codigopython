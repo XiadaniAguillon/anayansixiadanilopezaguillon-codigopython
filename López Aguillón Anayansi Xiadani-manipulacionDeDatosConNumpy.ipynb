{
 "cells": [
  {
   "cell_type": "markdown",
   "id": "dd4abbb2",
   "metadata": {},
   "source": [
    "### Práctica 2: Manipulación de datos con Numpy\n",
    "#### Alumna: López Aguillón Anayansi Xiadani"
   ]
  },
  {
   "cell_type": "code",
   "execution_count": 1,
   "id": "9e798d4c",
   "metadata": {},
   "outputs": [],
   "source": [
    "import numpy as np"
   ]
  },
  {
   "cell_type": "code",
   "execution_count": 2,
   "id": "6900cb65",
   "metadata": {},
   "outputs": [],
   "source": [
    "arreglo = np.array([0,1,2,3,4,5])"
   ]
  },
  {
   "cell_type": "code",
   "execution_count": 3,
   "id": "7b1bb3ca",
   "metadata": {},
   "outputs": [
    {
     "data": {
      "text/plain": [
       "(array([0, 1, 2, 3, 4, 5]), numpy.ndarray)"
      ]
     },
     "execution_count": 3,
     "metadata": {},
     "output_type": "execute_result"
    }
   ],
   "source": [
    "arreglo, type(arreglo)"
   ]
  },
  {
   "cell_type": "code",
   "execution_count": 4,
   "id": "6312ed9f",
   "metadata": {},
   "outputs": [],
   "source": [
    "notas = [17,24,34,35,36,66]\n",
    "\n",
    "ar_notas = np.array(notas, dtype=float)"
   ]
  },
  {
   "cell_type": "code",
   "execution_count": 5,
   "id": "e221ad50",
   "metadata": {},
   "outputs": [
    {
     "data": {
      "text/plain": [
       "(array([17., 24., 34., 35., 36., 66.]), numpy.float64)"
      ]
     },
     "execution_count": 5,
     "metadata": {},
     "output_type": "execute_result"
    }
   ],
   "source": [
    "ar_notas,type(ar_notas[0])"
   ]
  },
  {
   "cell_type": "code",
   "execution_count": 6,
   "id": "467c19a3",
   "metadata": {},
   "outputs": [
    {
     "data": {
      "text/plain": [
       "array([[ 0,  1,  2,  3,  4,  5],\n",
       "       [17, 24, 34, 35, 36, 66]])"
      ]
     },
     "execution_count": 6,
     "metadata": {},
     "output_type": "execute_result"
    }
   ],
   "source": [
    "ar_notas_todas = np.array(([0,1,2,3,4,5], notas))\n",
    "ar_notas_todas"
   ]
  },
  {
   "cell_type": "markdown",
   "id": "fd254c6d",
   "metadata": {},
   "source": [
    "#### ndim"
   ]
  },
  {
   "cell_type": "code",
   "execution_count": 7,
   "id": "8a7d560c",
   "metadata": {},
   "outputs": [
    {
     "name": "stdout",
     "output_type": "stream",
     "text": [
      "2\n",
      "1\n"
     ]
    }
   ],
   "source": [
    "# Atributo para conocer cuantas dimensiones tiene un array\n",
    "print(ar_notas_todas.ndim)\n",
    "print(ar_notas.ndim)"
   ]
  },
  {
   "cell_type": "markdown",
   "id": "ba96f5ad",
   "metadata": {},
   "source": [
    "#### shape"
   ]
  },
  {
   "cell_type": "code",
   "execution_count": 8,
   "id": "bdb05946",
   "metadata": {},
   "outputs": [
    {
     "name": "stdout",
     "output_type": "stream",
     "text": [
      "(2, 6)\n",
      "(6,)\n"
     ]
    }
   ],
   "source": [
    "# Atributo para conocer el tamaño de cada dimension de un array\n",
    "print(ar_notas_todas.shape)\n",
    "print(ar_notas.shape)"
   ]
  },
  {
   "cell_type": "markdown",
   "id": "fbc4b6b6",
   "metadata": {},
   "source": [
    "#### Arrays especiales "
   ]
  },
  {
   "cell_type": "code",
   "execution_count": 9,
   "id": "e5d9a316",
   "metadata": {},
   "outputs": [
    {
     "name": "stdout",
     "output_type": "stream",
     "text": [
      "[[0. 0. 0.]\n",
      " [0. 0. 0.]]\n"
     ]
    }
   ],
   "source": [
    "#Arreglo con puros 0\n",
    "arr = np.zeros((2,3), dtype=float) #2 filas, 3 columnas\n",
    "print(arr)"
   ]
  },
  {
   "cell_type": "code",
   "execution_count": 10,
   "id": "931691f2",
   "metadata": {},
   "outputs": [
    {
     "name": "stdout",
     "output_type": "stream",
     "text": [
      "[[1. 1. 1. 1.]\n",
      " [1. 1. 1. 1.]\n",
      " [1. 1. 1. 1.]]\n"
     ]
    }
   ],
   "source": [
    "#Arreglo con puros 1\n",
    "arr2 = np.ones((3,4), dtype=float) #3 filas, 4 columnas\n",
    "print(arr2)"
   ]
  },
  {
   "cell_type": "code",
   "execution_count": 11,
   "id": "954087cf",
   "metadata": {},
   "outputs": [
    {
     "name": "stdout",
     "output_type": "stream",
     "text": [
      "[[1. 0. 0. 0.]\n",
      " [0. 1. 0. 0.]\n",
      " [0. 0. 1. 0.]\n",
      " [0. 0. 0. 1.]]\n"
     ]
    }
   ],
   "source": [
    "#Arreglo con una identidad cuadrada\n",
    "arr3 = np.identity((4), dtype=float) #4 filas y columnas\n",
    "print(arr3)"
   ]
  },
  {
   "cell_type": "code",
   "execution_count": 12,
   "id": "6d0a2235",
   "metadata": {},
   "outputs": [
    {
     "name": "stdout",
     "output_type": "stream",
     "text": [
      "[[1. 0. 0. 0.]\n",
      " [0. 1. 0. 0.]\n",
      " [0. 0. 1. 0.]\n",
      " [0. 0. 0. 1.]]\n"
     ]
    }
   ],
   "source": [
    "#Arreglo con una identidad cuadrada con el metodo eye\n",
    "arr4 = np.eye((4), dtype=float) #4 filas y columnas\n",
    "print(arr4)"
   ]
  },
  {
   "cell_type": "code",
   "execution_count": 13,
   "id": "0ef4e7e1",
   "metadata": {},
   "outputs": [
    {
     "name": "stdout",
     "output_type": "stream",
     "text": [
      "[1 2 3 4 5 6 7 8]\n"
     ]
    }
   ],
   "source": [
    "#Arreglo con una identidad cuadrada\n",
    "arr5 = np.arange(1,9) #1 a 9 elementos\n",
    "print(arr5)"
   ]
  },
  {
   "cell_type": "markdown",
   "id": "d0f79327",
   "metadata": {},
   "source": [
    "#### Operaciones básicas"
   ]
  },
  {
   "cell_type": "code",
   "execution_count": 15,
   "id": "8db62ec7",
   "metadata": {},
   "outputs": [
    {
     "data": {
      "text/plain": [
       "array([1, 2, 3, 4, 5, 6, 7, 8])"
      ]
     },
     "execution_count": 15,
     "metadata": {},
     "output_type": "execute_result"
    }
   ],
   "source": [
    "arreglo1 = np.arange(1,9)\n",
    "arreglo1"
   ]
  },
  {
   "cell_type": "code",
   "execution_count": 17,
   "id": "baf85217",
   "metadata": {},
   "outputs": [
    {
     "data": {
      "text/plain": [
       "array([[1, 2, 3, 4],\n",
       "       [5, 6, 7, 8]])"
      ]
     },
     "execution_count": 17,
     "metadata": {},
     "output_type": "execute_result"
    }
   ],
   "source": [
    "#modificamos el arreglo para hacerla de 2 dimensiones y 4 columnas\n",
    "arreglo1.shape = (2,4) \n",
    "arreglo1"
   ]
  },
  {
   "cell_type": "code",
   "execution_count": 18,
   "id": "e6cec4b5",
   "metadata": {},
   "outputs": [
    {
     "data": {
      "text/plain": [
       "array([[ 2,  4,  6,  8],\n",
       "       [10, 12, 14, 16]])"
      ]
     },
     "execution_count": 18,
     "metadata": {},
     "output_type": "execute_result"
    }
   ],
   "source": [
    "arreglo1 + arreglo1 #suma"
   ]
  },
  {
   "cell_type": "code",
   "execution_count": 19,
   "id": "0dba1e4a",
   "metadata": {},
   "outputs": [
    {
     "data": {
      "text/plain": [
       "array([[0, 0, 0, 0],\n",
       "       [0, 0, 0, 0]])"
      ]
     },
     "execution_count": 19,
     "metadata": {},
     "output_type": "execute_result"
    }
   ],
   "source": [
    "arreglo1 - arreglo1 #resta"
   ]
  },
  {
   "cell_type": "code",
   "execution_count": 20,
   "id": "27a6e799",
   "metadata": {},
   "outputs": [
    {
     "data": {
      "text/plain": [
       "array([[ 1,  4,  9, 16],\n",
       "       [25, 36, 49, 64]])"
      ]
     },
     "execution_count": 20,
     "metadata": {},
     "output_type": "execute_result"
    }
   ],
   "source": [
    "arreglo1 * arreglo1 #multiplicacion"
   ]
  },
  {
   "cell_type": "code",
   "execution_count": 21,
   "id": "fd5be0a2",
   "metadata": {},
   "outputs": [
    {
     "data": {
      "text/plain": [
       "array([[       1,        4,       27,      256],\n",
       "       [    3125,    46656,   823543, 16777216]], dtype=int32)"
      ]
     },
     "execution_count": 21,
     "metadata": {},
     "output_type": "execute_result"
    }
   ],
   "source": [
    "arreglo1 ** arreglo1 #exponenciacion"
   ]
  },
  {
   "cell_type": "code",
   "execution_count": 22,
   "id": "aadc4e49",
   "metadata": {},
   "outputs": [
    {
     "data": {
      "text/plain": [
       "array([[1., 1., 1., 1.],\n",
       "       [1., 1., 1., 1.]])"
      ]
     },
     "execution_count": 22,
     "metadata": {},
     "output_type": "execute_result"
    }
   ],
   "source": [
    "arreglo1 / arreglo1 #division"
   ]
  },
  {
   "cell_type": "markdown",
   "id": "5abd9533",
   "metadata": {},
   "source": [
    "#### Álgebra lineal\n",
    "##### Producto de arrays"
   ]
  },
  {
   "cell_type": "code",
   "execution_count": 24,
   "id": "8073154e",
   "metadata": {},
   "outputs": [
    {
     "data": {
      "text/plain": [
       "5.0"
      ]
     },
     "execution_count": 24,
     "metadata": {},
     "output_type": "execute_result"
    }
   ],
   "source": [
    "a = np.array([1,2,3], float)\n",
    "b = np.array([0,1,1], float)\n",
    "\n",
    "np.dot(b, a)"
   ]
  },
  {
   "cell_type": "code",
   "execution_count": 25,
   "id": "a8d08077",
   "metadata": {},
   "outputs": [
    {
     "data": {
      "text/plain": [
       "5.0"
      ]
     },
     "execution_count": 25,
     "metadata": {},
     "output_type": "execute_result"
    }
   ],
   "source": [
    "a.dot(b)"
   ]
  },
  {
   "cell_type": "markdown",
   "id": "88e8da96",
   "metadata": {},
   "source": [
    "##### Producto de matrices"
   ]
  },
  {
   "cell_type": "code",
   "execution_count": 26,
   "id": "1cfc27c3",
   "metadata": {},
   "outputs": [
    {
     "name": "stdout",
     "output_type": "stream",
     "text": [
      "[[5. 2.]\n",
      " [4. 8.]] \n",
      " -----------\n",
      "[[2. 4.]\n",
      " [5. 3.]] \n",
      " -----------\n"
     ]
    }
   ],
   "source": [
    "a = np.array([[5, 2], [4, 8]], float)\n",
    "b = np.array([[2, 4], [5, 3]], float)\n",
    "\n",
    "print(a, \"\\n -----------\")\n",
    "print(b, \"\\n -----------\")"
   ]
  },
  {
   "cell_type": "code",
   "execution_count": 27,
   "id": "3eb4e56b",
   "metadata": {},
   "outputs": [
    {
     "data": {
      "text/plain": [
       "array([[20., 26.],\n",
       "       [48., 40.]])"
      ]
     },
     "execution_count": 27,
     "metadata": {},
     "output_type": "execute_result"
    }
   ],
   "source": [
    "np.dot(a, b)"
   ]
  },
  {
   "cell_type": "code",
   "execution_count": 29,
   "id": "2c99ace3",
   "metadata": {},
   "outputs": [
    {
     "data": {
      "text/plain": [
       "array([[20., 26.],\n",
       "       [48., 40.]])"
      ]
     },
     "execution_count": 29,
     "metadata": {},
     "output_type": "execute_result"
    }
   ],
   "source": [
    "a @ b"
   ]
  },
  {
   "cell_type": "code",
   "execution_count": 33,
   "id": "3f4c47d3",
   "metadata": {},
   "outputs": [
    {
     "name": "stdout",
     "output_type": "stream",
     "text": [
      "[2. 3. 5.] \n",
      " -----------\n",
      "[[0. 1. 4.]\n",
      " [5. 2. 3.]\n",
      " [1. 4. 8.]] \n",
      " -----------\n"
     ]
    }
   ],
   "source": [
    "a = np.array([[0, 1, 4], [5, 2, 3], [1, 4, 8]], float)\n",
    "b = np.array([2, 3, 5], float)\n",
    "\n",
    "print(b, \"\\n -----------\")\n",
    "print(a, \"\\n -----------\")"
   ]
  },
  {
   "cell_type": "code",
   "execution_count": 31,
   "id": "1c0db7bd",
   "metadata": {},
   "outputs": [
    {
     "data": {
      "text/plain": [
       "array([23., 31., 54.])"
      ]
     },
     "execution_count": 31,
     "metadata": {},
     "output_type": "execute_result"
    }
   ],
   "source": [
    "np.dot(a, b)"
   ]
  },
  {
   "cell_type": "code",
   "execution_count": 34,
   "id": "5784832a",
   "metadata": {},
   "outputs": [
    {
     "data": {
      "text/plain": [
       "array([23., 31., 54.])"
      ]
     },
     "execution_count": 34,
     "metadata": {},
     "output_type": "execute_result"
    }
   ],
   "source": [
    "a @ b"
   ]
  },
  {
   "cell_type": "code",
   "execution_count": 35,
   "id": "9f568e81",
   "metadata": {},
   "outputs": [
    {
     "name": "stdout",
     "output_type": "stream",
     "text": [
      "[23. 31. 54.]\n"
     ]
    }
   ],
   "source": [
    "#matriz multiplied\n",
    "print(np.matmul(a,b))"
   ]
  },
  {
   "cell_type": "markdown",
   "id": "971b92dd",
   "metadata": {},
   "source": [
    "##### Determinante de una matriz"
   ]
  },
  {
   "cell_type": "code",
   "execution_count": 36,
   "id": "f626ac94",
   "metadata": {},
   "outputs": [
    {
     "name": "stdout",
     "output_type": "stream",
     "text": [
      "[[8 5]\n",
      " [3 4]] \n",
      " -----------\n"
     ]
    },
    {
     "data": {
      "text/plain": [
       "17.0"
      ]
     },
     "execution_count": 36,
     "metadata": {},
     "output_type": "execute_result"
    }
   ],
   "source": [
    "a = np.array([[8, 5], [3, 4]]) # (8*4) - (5*3)\n",
    "print(a, \"\\n -----------\")\n",
    "np.linalg.det(a)"
   ]
  },
  {
   "cell_type": "markdown",
   "id": "33ab1cf7",
   "metadata": {},
   "source": [
    "##### Autovalores y autovectores"
   ]
  },
  {
   "cell_type": "code",
   "execution_count": 37,
   "id": "efa8ae4c",
   "metadata": {},
   "outputs": [
    {
     "name": "stdout",
     "output_type": "stream",
     "text": [
      "[10.35889894  1.64110106] \n",
      " -----------\n",
      "[[ 0.90440309 -0.61810602]\n",
      " [ 0.4266791   0.78609474]] \n",
      " -----------\n"
     ]
    }
   ],
   "source": [
    "vals, vecs = np.linalg.eig(a) #devuelve una tupla\n",
    "print(vals, \"\\n -----------\")\n",
    "print(vecs, \"\\n -----------\")"
   ]
  },
  {
   "cell_type": "markdown",
   "id": "e70a0afc",
   "metadata": {},
   "source": [
    "##### Funciones universales unarias"
   ]
  },
  {
   "cell_type": "code",
   "execution_count": 38,
   "id": "77e9a692",
   "metadata": {},
   "outputs": [],
   "source": [
    "a = np.array([2, 4, 9], float)"
   ]
  },
  {
   "cell_type": "code",
   "execution_count": 39,
   "id": "a0dc0cb1",
   "metadata": {},
   "outputs": [
    {
     "data": {
      "text/plain": [
       "array([1.41421356, 2.        , 3.        ])"
      ]
     },
     "execution_count": 39,
     "metadata": {},
     "output_type": "execute_result"
    }
   ],
   "source": [
    "np.sqrt(a) #raiz cuadrada"
   ]
  },
  {
   "cell_type": "code",
   "execution_count": 40,
   "id": "f9e63ebd",
   "metadata": {},
   "outputs": [
    {
     "data": {
      "text/plain": [
       "array([7.38905610e+00, 5.45981500e+01, 8.10308393e+03])"
      ]
     },
     "execution_count": 40,
     "metadata": {},
     "output_type": "execute_result"
    }
   ],
   "source": [
    "np.exp(a) #exponencial"
   ]
  },
  {
   "cell_type": "code",
   "execution_count": 41,
   "id": "e0311737",
   "metadata": {},
   "outputs": [
    {
     "data": {
      "text/plain": [
       "array([0.69314718, 1.38629436, 2.19722458])"
      ]
     },
     "execution_count": 41,
     "metadata": {},
     "output_type": "execute_result"
    }
   ],
   "source": [
    "np.log(a) #logaritmo natural"
   ]
  },
  {
   "cell_type": "code",
   "execution_count": 42,
   "id": "0b03fcea",
   "metadata": {},
   "outputs": [
    {
     "data": {
      "text/plain": [
       "array([ 0.90929743, -0.7568025 ,  0.41211849])"
      ]
     },
     "execution_count": 42,
     "metadata": {},
     "output_type": "execute_result"
    }
   ],
   "source": [
    "np.sin(a) #seno"
   ]
  },
  {
   "cell_type": "code",
   "execution_count": 43,
   "id": "94cdbf0d",
   "metadata": {},
   "outputs": [
    {
     "data": {
      "text/plain": [
       "array([-0.41614684, -0.65364362, -0.91113026])"
      ]
     },
     "execution_count": 43,
     "metadata": {},
     "output_type": "execute_result"
    }
   ],
   "source": [
    "np.cos(a) #coseno"
   ]
  },
  {
   "cell_type": "code",
   "execution_count": 44,
   "id": "40f4a099",
   "metadata": {},
   "outputs": [
    {
     "data": {
      "text/plain": [
       "5.0"
      ]
     },
     "execution_count": 44,
     "metadata": {},
     "output_type": "execute_result"
    }
   ],
   "source": [
    "np.mean(a) #media aritmetica: suma de cada uno de los elemnetos div entre elementos"
   ]
  },
  {
   "cell_type": "code",
   "execution_count": 45,
   "id": "371943fc",
   "metadata": {},
   "outputs": [
    {
     "data": {
      "text/plain": [
       "2.943920288775949"
      ]
     },
     "execution_count": 45,
     "metadata": {},
     "output_type": "execute_result"
    }
   ],
   "source": [
    "np.std(a) #variacion estandar"
   ]
  },
  {
   "cell_type": "code",
   "execution_count": 46,
   "id": "9880faa6",
   "metadata": {},
   "outputs": [
    {
     "data": {
      "text/plain": [
       "8.666666666666666"
      ]
     },
     "execution_count": 46,
     "metadata": {},
     "output_type": "execute_result"
    }
   ],
   "source": [
    "np.var(a) #varianza"
   ]
  },
  {
   "cell_type": "markdown",
   "id": "487f4b12",
   "metadata": {},
   "source": [
    "##### Funciones universales binarias"
   ]
  },
  {
   "cell_type": "code",
   "execution_count": 47,
   "id": "3ba65b57",
   "metadata": {},
   "outputs": [],
   "source": [
    "arr = np.array([5, 36, 17, 18, 9])\n",
    "arr_2 = np.array([8, 24, 17, 19, 9])"
   ]
  },
  {
   "cell_type": "code",
   "execution_count": 48,
   "id": "7174466a",
   "metadata": {},
   "outputs": [
    {
     "data": {
      "text/plain": [
       "array([13, 60, 34, 37, 18])"
      ]
     },
     "execution_count": 48,
     "metadata": {},
     "output_type": "execute_result"
    }
   ],
   "source": [
    "np.add(arr, arr_2) #suma los elementos correspondientes de los arrays"
   ]
  },
  {
   "cell_type": "code",
   "execution_count": 49,
   "id": "dc2ba19f",
   "metadata": {},
   "outputs": [
    {
     "data": {
      "text/plain": [
       "array([-3, 12,  0, -1,  0])"
      ]
     },
     "execution_count": 49,
     "metadata": {},
     "output_type": "execute_result"
    }
   ],
   "source": [
    "np.subtract(arr, arr_2) #resta los elementos"
   ]
  },
  {
   "cell_type": "code",
   "execution_count": 50,
   "id": "520966df",
   "metadata": {},
   "outputs": [
    {
     "data": {
      "text/plain": [
       "array([ 40, 864, 289, 342,  81])"
      ]
     },
     "execution_count": 50,
     "metadata": {},
     "output_type": "execute_result"
    }
   ],
   "source": [
    "np.multiply(arr, arr_2) #multiplica los elementos"
   ]
  },
  {
   "cell_type": "code",
   "execution_count": 51,
   "id": "e5078c4d",
   "metadata": {},
   "outputs": [
    {
     "data": {
      "text/plain": [
       "array([0.625     , 1.5       , 1.        , 0.94736842, 1.        ])"
      ]
     },
     "execution_count": 51,
     "metadata": {},
     "output_type": "execute_result"
    }
   ],
   "source": [
    "np.divide(arr, arr_2) #divide los elementos"
   ]
  },
  {
   "cell_type": "code",
   "execution_count": 52,
   "id": "b685ce5b",
   "metadata": {},
   "outputs": [
    {
     "data": {
      "text/plain": [
       "False"
      ]
     },
     "execution_count": 52,
     "metadata": {},
     "output_type": "execute_result"
    }
   ],
   "source": [
    "np.array_equal(arr, arr_2) #evalua si son iguales"
   ]
  },
  {
   "cell_type": "code",
   "execution_count": 53,
   "id": "40c2e235",
   "metadata": {},
   "outputs": [
    {
     "data": {
      "text/plain": [
       "array([ 5, 24, 17, 18,  9])"
      ]
     },
     "execution_count": 53,
     "metadata": {},
     "output_type": "execute_result"
    }
   ],
   "source": [
    "#compara los elemmentos y crea un nuevo array con el valor mas pequeño \n",
    "np.fmin(arr, arr_2) "
   ]
  },
  {
   "cell_type": "code",
   "execution_count": 54,
   "id": "3ef3f6c7",
   "metadata": {},
   "outputs": [
    {
     "data": {
      "text/plain": [
       "array([ 8, 36, 17, 19,  9])"
      ]
     },
     "execution_count": 54,
     "metadata": {},
     "output_type": "execute_result"
    }
   ],
   "source": [
    "#compara los elemmentos y crea un nuevo array con el valor mas grande\n",
    "np.fmax(arr, arr_2) "
   ]
  },
  {
   "cell_type": "markdown",
   "id": "2b771fe0",
   "metadata": {},
   "source": [
    "##### Agregar y quitar valores a un array"
   ]
  },
  {
   "cell_type": "code",
   "execution_count": 56,
   "id": "bf3a3644",
   "metadata": {},
   "outputs": [
    {
     "data": {
      "text/plain": [
       "array([ 0,  2,  4,  6,  8, 10, 12, 14, 16, 18])"
      ]
     },
     "execution_count": 56,
     "metadata": {},
     "output_type": "execute_result"
    }
   ],
   "source": [
    "#genera un arreglo con incrememto, inicio y final del rango\n",
    "arr = np.arange(0,20,2)#inicio,final,incremento\n",
    "arr"
   ]
  },
  {
   "cell_type": "code",
   "execution_count": 59,
   "id": "a2c3c4a0",
   "metadata": {},
   "outputs": [
    {
     "data": {
      "text/plain": [
       "array([[0.18668546, 0.08756634, 0.66343391],\n",
       "       [0.49244545, 0.99324088, 0.49971349],\n",
       "       [0.40065648, 0.97323293, 0.71924168],\n",
       "       [0.83852399, 0.46063384, 0.64294625]])"
      ]
     },
     "execution_count": 59,
     "metadata": {},
     "output_type": "execute_result"
    }
   ],
   "source": [
    "#genera un arreglo flotante con numeros aleatorios\n",
    "#rand generara numeros entre 0 y 1\n",
    "arr_flot = np.random.rand(4,3)#hace el arreglo de 4 filas y 3 columnas\n",
    "arr_flot"
   ]
  },
  {
   "cell_type": "code",
   "execution_count": 60,
   "id": "63b283a0",
   "metadata": {},
   "outputs": [
    {
     "data": {
      "text/plain": [
       "array([[1, 3, 4],\n",
       "       [0, 3, 9]])"
      ]
     },
     "execution_count": 60,
     "metadata": {},
     "output_type": "execute_result"
    }
   ],
   "source": [
    "#genera un arreglo de numeros enteros aleatorios\n",
    "arr_ent = np.random.randint(10, size=(2,3))\n",
    "#numeros entre 0 y 10, con arreglo tamaño 2 filas y 3 columnas\n",
    "arr_ent"
   ]
  },
  {
   "cell_type": "code",
   "execution_count": 61,
   "id": "c3128e23",
   "metadata": {},
   "outputs": [
    {
     "data": {
      "text/plain": [
       "array([[6, 6, 6],\n",
       "       [6, 6, 6],\n",
       "       [6, 6, 6]])"
      ]
     },
     "execution_count": 61,
     "metadata": {},
     "output_type": "execute_result"
    }
   ],
   "source": [
    "#genera un arreglo con todos los valores 6\n",
    "arr_6 = np.full((3,3),6)#hace el arreglo de 3 filas y 3 columnas\n",
    "arr_6"
   ]
  },
  {
   "cell_type": "code",
   "execution_count": 62,
   "id": "c0c14edd",
   "metadata": {},
   "outputs": [
    {
     "data": {
      "text/plain": [
       "array([ 0,  2,  4,  6,  8, 10, 12, 14, 16, 18, 12, 13, 14, 15])"
      ]
     },
     "execution_count": 62,
     "metadata": {},
     "output_type": "execute_result"
    }
   ],
   "source": [
    "#agrega los valores \n",
    "np.append(arr, [12, 13, 14, 15])"
   ]
  },
  {
   "cell_type": "code",
   "execution_count": 63,
   "id": "47c0c431",
   "metadata": {},
   "outputs": [
    {
     "data": {
      "text/plain": [
       "array([ 0,  2, 42, 34,  4,  6,  8, 10, 12, 14, 16, 18])"
      ]
     },
     "execution_count": 63,
     "metadata": {},
     "output_type": "execute_result"
    }
   ],
   "source": [
    "#inserta valores en lugares determinados\n",
    "np.insert(arr, 2, [42, 34])#inserta los valores en la posicion 2\n",
    "\n",
    "#devuelve valor unidimensional"
   ]
  },
  {
   "cell_type": "code",
   "execution_count": 64,
   "id": "8e80d9ed",
   "metadata": {},
   "outputs": [
    {
     "data": {
      "text/plain": [
       "array([[1, 3, 4]])"
      ]
     },
     "execution_count": 64,
     "metadata": {},
     "output_type": "execute_result"
    }
   ],
   "source": [
    "#elimina los valores\n",
    "#elimina la fila en la posicion 1 y eje 0 (horizontal), si el eje es 1 es vertical\n",
    "np.delete(arr_ent, 1, axis=0)"
   ]
  },
  {
   "cell_type": "markdown",
   "id": "244171b9",
   "metadata": {},
   "source": [
    "##### Transformaciones\n",
    "###### as type"
   ]
  },
  {
   "cell_type": "code",
   "execution_count": 101,
   "id": "5d270918",
   "metadata": {},
   "outputs": [
    {
     "data": {
      "text/plain": [
       "array([[31, 93, 36, 30],\n",
       "       [35, 41,  8, 11],\n",
       "       [69, 72, 19, 90]])"
      ]
     },
     "execution_count": 101,
     "metadata": {},
     "output_type": "execute_result"
    }
   ],
   "source": [
    "arr_ent = np.random.randint(100, size=(3,4))#numeros entre 0 y 10, con arreglo tamaño 2 filas y 3 columnas\n",
    "arr_ent"
   ]
  },
  {
   "cell_type": "code",
   "execution_count": 102,
   "id": "a5cca7df",
   "metadata": {},
   "outputs": [
    {
     "data": {
      "text/plain": [
       "array([[31., 93., 36., 30.],\n",
       "       [35., 41.,  8., 11.],\n",
       "       [69., 72., 19., 90.]])"
      ]
     },
     "execution_count": 102,
     "metadata": {},
     "output_type": "execute_result"
    }
   ],
   "source": [
    "arr_ent.astype(float)#transforma los valores del array a flotantes"
   ]
  },
  {
   "cell_type": "markdown",
   "id": "79749e1c",
   "metadata": {},
   "source": [
    "###### sort"
   ]
  },
  {
   "cell_type": "code",
   "execution_count": 103,
   "id": "127aa2e2",
   "metadata": {},
   "outputs": [
    {
     "data": {
      "text/plain": [
       "array([[31, 93, 36, 30],\n",
       "       [35, 41,  8, 11],\n",
       "       [69, 72, 19, 90]])"
      ]
     },
     "execution_count": 103,
     "metadata": {},
     "output_type": "execute_result"
    }
   ],
   "source": [
    "arr_ent"
   ]
  },
  {
   "cell_type": "code",
   "execution_count": 104,
   "id": "5ba218b1",
   "metadata": {},
   "outputs": [
    {
     "data": {
      "text/plain": [
       "array([[30, 31, 36, 93],\n",
       "       [ 8, 11, 35, 41],\n",
       "       [19, 69, 72, 90]])"
      ]
     },
     "execution_count": 104,
     "metadata": {},
     "output_type": "execute_result"
    }
   ],
   "source": [
    "#ordena los valores del array\n",
    "arr_ent.sort()\n",
    "arr_ent"
   ]
  },
  {
   "cell_type": "code",
   "execution_count": 105,
   "id": "fc4403a8",
   "metadata": {},
   "outputs": [
    {
     "data": {
      "text/plain": [
       "array([[ 8, 11, 35, 41],\n",
       "       [19, 31, 36, 90],\n",
       "       [30, 69, 72, 93]])"
      ]
     },
     "execution_count": 105,
     "metadata": {},
     "output_type": "execute_result"
    }
   ],
   "source": [
    "#ordena los valores por eje vertical\n",
    "arr_ent.sort(axis=0)\n",
    "arr_ent"
   ]
  },
  {
   "cell_type": "markdown",
   "id": "06286e4a",
   "metadata": {},
   "source": [
    "###### reshape"
   ]
  },
  {
   "cell_type": "code",
   "execution_count": 106,
   "id": "cdbbd796",
   "metadata": {},
   "outputs": [
    {
     "data": {
      "text/plain": [
       "array([[ 8, 11, 35],\n",
       "       [41, 19, 31],\n",
       "       [36, 90, 30],\n",
       "       [69, 72, 93]])"
      ]
     },
     "execution_count": 106,
     "metadata": {},
     "output_type": "execute_result"
    }
   ],
   "source": [
    "#re orden el arreglo de 3*4 a 4*3\n",
    "arr_ent = arr_ent.reshape(4,3)\n",
    "arr_ent"
   ]
  },
  {
   "cell_type": "markdown",
   "id": "87fc2714",
   "metadata": {},
   "source": [
    "###### flatten"
   ]
  },
  {
   "cell_type": "code",
   "execution_count": 107,
   "id": "ad73a836",
   "metadata": {},
   "outputs": [
    {
     "name": "stdout",
     "output_type": "stream",
     "text": [
      "ORIGINAL\n",
      " [[ 8 11 35]\n",
      " [41 19 31]\n",
      " [36 90 30]\n",
      " [69 72 93]]\n",
      "FLATTEN\n",
      " [ 8 11 35 41 19 31 36 90 30 69 72 93]\n"
     ]
    }
   ],
   "source": [
    "#Crea un array unidemensional del arreglo original\n",
    "plano_arr = arr_ent.flatten()\n",
    "print(\"ORIGINAL\\n\", arr_ent)\n",
    "print(\"FLATTEN\\n\", plano_arr)"
   ]
  },
  {
   "cell_type": "markdown",
   "id": "7a847893",
   "metadata": {},
   "source": [
    "###### to list"
   ]
  },
  {
   "cell_type": "code",
   "execution_count": 108,
   "id": "6bb5c3bb",
   "metadata": {},
   "outputs": [
    {
     "name": "stdout",
     "output_type": "stream",
     "text": [
      "[8, 11, 35, 41, 19, 31, 36, 90, 30, 69, 72, 93]\n"
     ]
    },
    {
     "data": {
      "text/plain": [
       "list"
      ]
     },
     "execution_count": 108,
     "metadata": {},
     "output_type": "execute_result"
    }
   ],
   "source": [
    "#crea una lista a partir de un array\n",
    "lista_arr = plano_arr.tolist()\n",
    "print(lista_arr)\n",
    "type(lista_arr)"
   ]
  },
  {
   "cell_type": "markdown",
   "id": "3ac2204b",
   "metadata": {},
   "source": [
    "###### separar y juntar arrays"
   ]
  },
  {
   "cell_type": "code",
   "execution_count": 109,
   "id": "f8f12ea3",
   "metadata": {},
   "outputs": [
    {
     "data": {
      "text/plain": [
       "[array([[ 8, 11, 35]]),\n",
       " array([[41, 19, 31]]),\n",
       " array([[36, 90, 30]]),\n",
       " array([[69, 72, 93]])]"
      ]
     },
     "execution_count": 109,
     "metadata": {},
     "output_type": "execute_result"
    }
   ],
   "source": [
    "#separa la matriz a 4 arreglos\n",
    "arrays = np.split(arr_ent, 4)\n",
    "arrays"
   ]
  },
  {
   "cell_type": "code",
   "execution_count": 113,
   "id": "4c83da78",
   "metadata": {},
   "outputs": [
    {
     "data": {
      "text/plain": [
       "array([[41, 19, 31],\n",
       "       [ 8, 11, 35]])"
      ]
     },
     "execution_count": 113,
     "metadata": {},
     "output_type": "execute_result"
    }
   ],
   "source": [
    "#concatena el arreglo de la fila 1 y despues la 0, ya que el eje es 0\n",
    "#si el eje es 1 lo hara horizontalmente\n",
    "np.concatenate((arrays[1], arrays[0]), axis=0)"
   ]
  },
  {
   "cell_type": "markdown",
   "id": "f33d6b73",
   "metadata": {},
   "source": [
    "###### matriz transpuesta"
   ]
  },
  {
   "cell_type": "code",
   "execution_count": 116,
   "id": "b42e1a1d",
   "metadata": {},
   "outputs": [
    {
     "name": "stdout",
     "output_type": "stream",
     "text": [
      "[[ 8 11 35]\n",
      " [41 19 31]\n",
      " [36 90 30]\n",
      " [69 72 93]]\n",
      "TRANSPUESTA\n",
      " [[ 8 41 36 69]\n",
      " [11 19 90 72]\n",
      " [35 31 30 93]]\n"
     ]
    }
   ],
   "source": [
    "#toma la primera fila del array y lo pone como columna\n",
    "t_arr = arr_ent.T\n",
    "print(arr_ent)\n",
    "print(\"TRANSPUESTA\\n\", t_arr)"
   ]
  },
  {
   "cell_type": "markdown",
   "id": "ae24c827",
   "metadata": {},
   "source": [
    "##### Indexacion y slicing"
   ]
  },
  {
   "cell_type": "code",
   "execution_count": 118,
   "id": "63085e9a",
   "metadata": {},
   "outputs": [
    {
     "data": {
      "text/plain": [
       "array([[ 0,  1,  2,  3,  4,  5,  6,  7],\n",
       "       [ 8,  9, 10, 11, 12, 13, 14, 15],\n",
       "       [16, 17, 18, 19, 20, 21, 22, 23],\n",
       "       [24, 25, 26, 27, 28, 29, 30, 31],\n",
       "       [32, 33, 34, 35, 36, 37, 38, 39],\n",
       "       [40, 41, 42, 43, 44, 45, 46, 47],\n",
       "       [48, 49, 50, 51, 52, 53, 54, 55],\n",
       "       [56, 57, 58, 59, 60, 61, 62, 63]])"
      ]
     },
     "execution_count": 118,
     "metadata": {},
     "output_type": "execute_result"
    }
   ],
   "source": [
    "#genera un arreglo de 0 a 64 elemntos que este reordenado en una matriz 8*8\n",
    "indx = np.array(range(64)).reshape((8, 8))\n",
    "indx"
   ]
  },
  {
   "cell_type": "code",
   "execution_count": 120,
   "id": "fb1d05dc",
   "metadata": {},
   "outputs": [
    {
     "data": {
      "text/plain": [
       "9"
      ]
     },
     "execution_count": 120,
     "metadata": {},
     "output_type": "execute_result"
    }
   ],
   "source": [
    "indx[1, 1] #coordenada del elemento 9"
   ]
  },
  {
   "cell_type": "code",
   "execution_count": 121,
   "id": "199da549",
   "metadata": {},
   "outputs": [
    {
     "data": {
      "text/plain": [
       "array([[ 0,  1,  2,  3,  4,  5,  6,  7],\n",
       "       [16, 17, 18, 19, 20, 21, 22, 23],\n",
       "       [32, 33, 34, 35, 36, 37, 38, 39],\n",
       "       [48, 49, 50, 51, 52, 53, 54, 55]])"
      ]
     },
     "execution_count": 121,
     "metadata": {},
     "output_type": "execute_result"
    }
   ],
   "source": [
    "indx[0:7:2] #selecciona del indice inicialhasta el final en incrememnto"
   ]
  },
  {
   "cell_type": "code",
   "execution_count": 128,
   "id": "b4c7640a",
   "metadata": {},
   "outputs": [
    {
     "data": {
      "text/plain": [
       "array([ 0, 16, 32, 48])"
      ]
     },
     "execution_count": 128,
     "metadata": {},
     "output_type": "execute_result"
    }
   ],
   "source": [
    "indx[0:7:2,0] #selecciona solo el primer indice de cada fila encontrada"
   ]
  },
  {
   "cell_type": "code",
   "execution_count": 129,
   "id": "912f4e27",
   "metadata": {},
   "outputs": [
    {
     "data": {
      "text/plain": [
       "array([[ 0,  1,  2,  3],\n",
       "       [16, 17, 18, 19],\n",
       "       [32, 33, 34, 35],\n",
       "       [48, 49, 50, 51]])"
      ]
     },
     "execution_count": 129,
     "metadata": {},
     "output_type": "execute_result"
    }
   ],
   "source": [
    "#selecciona el primer indx y sus primeros 4 elementos de cada fila encontrada\n",
    "indx[0:7:2,0:4] "
   ]
  },
  {
   "cell_type": "code",
   "execution_count": 122,
   "id": "e94c2f58",
   "metadata": {},
   "outputs": [
    {
     "data": {
      "text/plain": [
       "array([11, 12, 13, 14, 15])"
      ]
     },
     "execution_count": 122,
     "metadata": {},
     "output_type": "execute_result"
    }
   ],
   "source": [
    "indx[1, 3:] #elementos de la fila 1 columna 3 en adelante"
   ]
  },
  {
   "cell_type": "code",
   "execution_count": 123,
   "id": "51dca6d2",
   "metadata": {},
   "outputs": [
    {
     "data": {
      "text/plain": [
       "array([11, 30, 47])"
      ]
     },
     "execution_count": 123,
     "metadata": {},
     "output_type": "execute_result"
    }
   ],
   "source": [
    "#trae las filas antes de la primera \",\" y sus columnas despues\n",
    "#1,3    3,6   5,7\n",
    "indx[[1, 3, 5], [3, 6, 7]] "
   ]
  },
  {
   "cell_type": "code",
   "execution_count": 124,
   "id": "d4d4fac6",
   "metadata": {},
   "outputs": [
    {
     "data": {
      "text/plain": [
       "array([[ 8, 11, 14],\n",
       "       [24, 27, 30],\n",
       "       [40, 43, 46]])"
      ]
     },
     "execution_count": 124,
     "metadata": {},
     "output_type": "execute_result"
    }
   ],
   "source": [
    "#trae todos los elementos de los indx 1,3,5 de 3 en 3\n",
    "indx[[1, 3, 5], ::3]"
   ]
  },
  {
   "cell_type": "markdown",
   "id": "3be2eb84",
   "metadata": {},
   "source": [
    "##### Indexacion booleana"
   ]
  },
  {
   "cell_type": "code",
   "execution_count": 125,
   "id": "96f68090",
   "metadata": {},
   "outputs": [
    {
     "data": {
      "text/plain": [
       "array([0, 1, 2, 3, 4, 5, 6, 7])"
      ]
     },
     "execution_count": 125,
     "metadata": {},
     "output_type": "execute_result"
    }
   ],
   "source": [
    "data = np.arange(8)\n",
    "data"
   ]
  },
  {
   "cell_type": "code",
   "execution_count": 126,
   "id": "cc94a2c0",
   "metadata": {},
   "outputs": [
    {
     "data": {
      "text/plain": [
       "array([ True,  True,  True,  True, False, False, False, False])"
      ]
     },
     "execution_count": 126,
     "metadata": {},
     "output_type": "execute_result"
    }
   ],
   "source": [
    "data < 4 #evalua que los elementos sean menor a 4"
   ]
  },
  {
   "cell_type": "code",
   "execution_count": 127,
   "id": "ef5e67d2",
   "metadata": {},
   "outputs": [
    {
     "data": {
      "text/plain": [
       "array([0, 1, 2, 3])"
      ]
     },
     "execution_count": 127,
     "metadata": {},
     "output_type": "execute_result"
    }
   ],
   "source": [
    "data[data<4]#hace un arreglo que contenga los elementos menores a 4"
   ]
  },
  {
   "cell_type": "code",
   "execution_count": 130,
   "id": "c487c32f",
   "metadata": {},
   "outputs": [
    {
     "data": {
      "text/plain": [
       "array([0, 1, 2, 3])"
      ]
     },
     "execution_count": 130,
     "metadata": {},
     "output_type": "execute_result"
    }
   ],
   "source": [
    "data[np.array([True, True, True, True, False, False, False, False])]"
   ]
  },
  {
   "cell_type": "code",
   "execution_count": 131,
   "id": "f5719e1a",
   "metadata": {},
   "outputs": [],
   "source": [
    "amigos = np.array(['giulia', 'victor', 'joe', 'andrea', 'valeria', 'alberto', 'roque'])"
   ]
  },
  {
   "cell_type": "code",
   "execution_count": 132,
   "id": "abff42d1",
   "metadata": {},
   "outputs": [
    {
     "data": {
      "text/plain": [
       "True"
      ]
     },
     "execution_count": 132,
     "metadata": {},
     "output_type": "execute_result"
    }
   ],
   "source": [
    "#pregunta si giulia esta dentro de el arroeglo amigos\n",
    "'giulia' in amigos"
   ]
  },
  {
   "cell_type": "code",
   "execution_count": 133,
   "id": "521bbd85",
   "metadata": {},
   "outputs": [
    {
     "data": {
      "text/plain": [
       "array(['victor', 'joe', 'andrea', 'valeria', 'alberto', 'roque'],\n",
       "      dtype='<U7')"
      ]
     },
     "execution_count": 133,
     "metadata": {},
     "output_type": "execute_result"
    }
   ],
   "source": [
    "#devuelve valores donde sea diferentes a la cadena giulia\n",
    "amigos[amigos!='giulia']"
   ]
  },
  {
   "cell_type": "code",
   "execution_count": null,
   "id": "a3a04e9b",
   "metadata": {},
   "outputs": [],
   "source": []
  }
 ],
 "metadata": {
  "kernelspec": {
   "display_name": "Python 3",
   "language": "python",
   "name": "python3"
  },
  "language_info": {
   "codemirror_mode": {
    "name": "ipython",
    "version": 3
   },
   "file_extension": ".py",
   "mimetype": "text/x-python",
   "name": "python",
   "nbconvert_exporter": "python",
   "pygments_lexer": "ipython3",
   "version": "3.8.8"
  }
 },
 "nbformat": 4,
 "nbformat_minor": 5
}
